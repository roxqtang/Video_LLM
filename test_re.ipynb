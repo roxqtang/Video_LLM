{
 "cells": [
  {
   "cell_type": "code",
   "execution_count": 7,
   "metadata": {},
   "outputs": [
    {
     "name": "stdout",
     "output_type": "stream",
     "text": [
      "3\n",
      "1\n"
     ]
    }
   ],
   "source": [
    "import re\n",
    "\n",
    "\n",
    "def extract_number_from_answer(ans):\n",
    "    \"\"\"从多种可能的答案格式中提取数字\"\"\"\n",
    "    # 尝试多种格式：<answer> 数字 </answer>, <div class=\"answer\"> 数字 </div> 等\n",
    "    patterns = [\n",
    "        r\"<answer>\\s*(\\d+)\\s*</answer>\",               # <answer> 1 </answer>\n",
    "        r\"<div class=\\\"answer\\\">\\s*(\\d+)\\s*</div>\",    # <div class=\"answer\"> 1 </div>\n",
    "        r\"<div class='answer'>\\s*(\\d+)\\s*</div>\",      # <div class='answer'> 1 </div>\n",
    "        r\"<div>\\s*(\\d+)\\s*</div>\",                     # <div> 1 </div>\n",
    "        r\"答案是:\\s*(\\d+)\",                            # 答案是: 1\n",
    "        r\"答案是\\s*(\\d+)\",                             # 答案是 1\n",
    "        r\"答案：\\s*(\\d+)\",                             # 答案： 1\n",
    "        r\"answer is:?\\s*(\\d+)\",                        # answer is: 1 或 answer is 1\n",
    "        r\"the answer is:?\\s*(\\d+)\",                    # the answer is: 1\n",
    "        r\"(\\d+)\"                                       # 最后尝试直接匹配数字（最宽松）\n",
    "    ]\n",
    "    \n",
    "    for pattern in patterns:\n",
    "        match = re.search(pattern, ans, re.IGNORECASE)\n",
    "        if match:\n",
    "            return int(match.group(1))\n",
    "    \n",
    "    return None\n",
    "\n",
    "ans = \"The answer is <answer> 3 </answer>.\"\n",
    "ans2 = 'div class=\"<answer\"> 1 </div>'\n",
    "match = extract_number_from_answer(ans)\n",
    "match2 = extract_number_from_answer(ans2)\n",
    "print(match)\n",
    "print(match2)"
   ]
  },
  {
   "cell_type": "code",
   "execution_count": 1,
   "metadata": {},
   "outputs": [
    {
     "name": "stdout",
     "output_type": "stream",
     "text": [
      "正在加载SAT数据集...\n",
      "加载了 15000 个SAT样本\n",
      "正在加载Qwen视觉模型...\n"
     ]
    },
    {
     "data": {
      "application/vnd.jupyter.widget-view+json": {
       "model_id": "8d89cc3f480e4359a338a43ae51cb4cb",
       "version_major": 2,
       "version_minor": 0
      },
      "text/plain": [
       "Loading checkpoint shards:   0%|          | 0/2 [00:00<?, ?it/s]"
      ]
     },
     "metadata": {},
     "output_type": "display_data"
    },
    {
     "name": "stderr",
     "output_type": "stream",
     "text": [
      "Some parameters are on the meta device because they were offloaded to the cpu.\n",
      "Using a slow image processor as `use_fast` is unset and a slow processor was saved with this model. `use_fast=True` will be the default behavior in v4.52, even if the model was saved with a slow processor. This will result in minor differences in outputs. You'll still be able to use a slow processor with `use_fast=False`.\n"
     ]
    }
   ],
   "source": [
    "# 测试SAT数据集的视觉问答能力\n",
    "import os\n",
    "import json\n",
    "import torch\n",
    "import random\n",
    "from PIL import Image\n",
    "from tqdm import tqdm\n",
    "from transformers import Qwen2_5_VLForConditionalGeneration, AutoProcessor\n",
    "from qwen_vl_utils import process_vision_info\n",
    "\n",
    "# 设置路径\n",
    "current_dir = os.getcwd()\n",
    "models_dir = os.path.join(current_dir, \"models\")\n",
    "data_dir = os.path.join(current_dir, \"data\")\n",
    "results_dir = os.path.join(current_dir, \"results\")\n",
    "sat_dir = os.path.join(data_dir, \"SAT\")\n",
    "\n",
    "# 确保文件夹存在\n",
    "os.makedirs(results_dir, exist_ok=True)\n",
    "\n",
    "# 设置环境变量\n",
    "os.environ[\"TRANSFORMERS_CACHE\"] = models_dir\n",
    "os.environ[\"HF_HOME\"] = models_dir\n",
    "os.environ[\"HF_HUB_CACHE\"] = models_dir\n",
    "os.environ[\"HF_HUB_DISABLE_SYMLINKS_WARNING\"] = \"1\"\n",
    "\n",
    "# 加载SAT数据集\n",
    "print(\"正在加载SAT数据集...\")\n",
    "with open(os.path.join(sat_dir, \"SAT_train_15000.json\"), \"r\") as f:\n",
    "    sat_data = json.load(f)\n",
    "\n",
    "print(f\"加载了 {len(sat_data)} 个SAT样本\")\n",
    "\n",
    "# 随机选择样本进行测试\n",
    "num_samples = 10  # 测试10个样本\n",
    "selected_samples = random.sample(sat_data, num_samples)\n",
    "\n",
    "# 加载模型\n",
    "print(\"正在加载Qwen视觉模型...\")\n",
    "model = Qwen2_5_VLForConditionalGeneration.from_pretrained(\n",
    "    \"remyxai/SpaceQwen2.5-VL-3B-Instruct\", torch_dtype=\"auto\", device_map=\"auto\"\n",
    ")\n",
    "processor = AutoProcessor.from_pretrained(\"remyxai/SpaceQwen2.5-VL-3B-Instruct\")\n"
   ]
  },
  {
   "cell_type": "code",
   "execution_count": 2,
   "metadata": {},
   "outputs": [
    {
     "name": "stdout",
     "output_type": "stream",
     "text": [
      "\n",
      "开始测试 10 个SAT样本...\n"
     ]
    },
    {
     "name": "stderr",
     "output_type": "stream",
     "text": [
      "测试进度:  10%|█         | 1/10 [00:08<01:12,  8.11s/it]"
     ]
    },
    {
     "name": "stdout",
     "output_type": "stream",
     "text": [
      "\n",
      "样本 1:\n",
      "问题: Answer in natural language. Is black round side table to the right of pedestal sink with a wide basin? Choose between the following options: yes or no\n",
      "参考答案: yes\n",
      "模型回答: yes\n",
      "是否正确: ✓\n",
      "--------------------------------------------------\n"
     ]
    },
    {
     "name": "stderr",
     "output_type": "stream",
     "text": [
      "测试进度:  20%|██        | 2/10 [00:19<01:18,  9.83s/it]"
     ]
    },
    {
     "name": "stdout",
     "output_type": "stream",
     "text": [
      "\n",
      "样本 2:\n",
      "问题: Answer in natural language. How many Stools are visible in the scene? Choose between the following options: 0, 4, 2, 3 or 1\n",
      "参考答案: 1\n",
      "模型回答: There is 1 Stool in the scene.\n",
      "是否正确: ✓\n",
      "--------------------------------------------------\n"
     ]
    },
    {
     "name": "stderr",
     "output_type": "stream",
     "text": [
      "测试进度:  30%|███       | 3/10 [00:33<01:23, 11.87s/it]"
     ]
    },
    {
     "name": "stdout",
     "output_type": "stream",
     "text": [
      "\n",
      "样本 3:\n",
      "问题: Answer in natural language. Considering the relative positions, where is Window with respect to black shelving unit with two shelves? Choose between the following options: left or right\n",
      "参考答案: left\n",
      "模型回答: Window with respect to black shelving unit with two shelves is on the left.\n",
      "是否正确: ✓\n",
      "--------------------------------------------------\n"
     ]
    },
    {
     "name": "stderr",
     "output_type": "stream",
     "text": [
      "测试进度:  40%|████      | 4/10 [00:45<01:11, 11.85s/it]"
     ]
    },
    {
     "name": "stdout",
     "output_type": "stream",
     "text": [
      "\n",
      "样本 4:\n",
      "问题: Answer in natural language. How many HousePlants are visible in the scene? Choose between the following options: 3, 1, 0, 4 or 2\n",
      "参考答案: 1\n",
      "模型回答: The number of HousePlants visible in the scene is 2.\n",
      "是否正确: ✗\n",
      "--------------------------------------------------\n"
     ]
    },
    {
     "name": "stderr",
     "output_type": "stream",
     "text": [
      "测试进度:  50%|█████     | 5/10 [01:01<01:06, 13.28s/it]"
     ]
    },
    {
     "name": "stdout",
     "output_type": "stream",
     "text": [
      "\n",
      "样本 5:\n",
      "问题: Answer in natural language. Considering the relative positions, where is brown side table with a drawer with respect to room with bed covered in bedsheet? Choose between the following options: right or left\n",
      "参考答案: right\n",
      "模型回答: The brown side table with a drawer is on the right side of the room with the bed covered in a bedsheet.\n",
      "是否正确: ✓\n",
      "--------------------------------------------------\n"
     ]
    },
    {
     "name": "stderr",
     "output_type": "stream",
     "text": [
      "测试进度:  60%|██████    | 6/10 [01:02<00:37,  9.41s/it]"
     ]
    },
    {
     "name": "stdout",
     "output_type": "stream",
     "text": [
      "\n",
      "样本 6:\n",
      "问题: Answer in natural language. Which point is closer to the camera taking this photo, point B  or point C? Choose between the following options: C or B\n",
      "参考答案: C\n",
      "模型回答: B\n",
      "是否正确: ✗\n",
      "--------------------------------------------------\n"
     ]
    },
    {
     "name": "stderr",
     "output_type": "stream",
     "text": [
      "测试进度:  70%|███████   | 7/10 [01:09<00:25,  8.48s/it]"
     ]
    },
    {
     "name": "stdout",
     "output_type": "stream",
     "text": [
      "\n",
      "样本 7:\n",
      "问题: Answer in natural language. Which object is closer to the camera taking this photo, beautiful wall painting (highlighted by a blue box) or Window (highlighted by a green box)? Choose between the following options: beautiful wall painting (highlighted by a blue box) or Window (highlighted by a green box)\n",
      "参考答案: Window (highlighted by a green box)\n",
      "模型回答: Window (highlighted by a green box)\n",
      "是否正确: ✓\n",
      "--------------------------------------------------\n"
     ]
    },
    {
     "name": "stderr",
     "output_type": "stream",
     "text": [
      "测试进度:  80%|████████  | 8/10 [01:19<00:17,  8.83s/it]"
     ]
    },
    {
     "name": "stdout",
     "output_type": "stream",
     "text": [
      "\n",
      "样本 8:\n",
      "问题: Answer in natural language. Which object is closer to the camera taking this photo, brown wooden chair with soft cushion (highlighted by a red box) or lowpoly bed with brown blanket (highlighted by a blue box)? Choose between the following options: lowpoly bed with brown blanket (highlighted by a blue box) or brown wooden chair with soft cushion (highlighted by a red box)\n",
      "参考答案: brown wooden chair with soft cushion (highlighted by a red box)\n",
      "模型回答: lowpoly bed with brown blanket (highlighted by a blue box)\n",
      "是否正确: ✗\n",
      "--------------------------------------------------\n"
     ]
    },
    {
     "name": "stderr",
     "output_type": "stream",
     "text": [
      "测试进度:  90%|█████████ | 9/10 [01:28<00:08,  8.93s/it]"
     ]
    },
    {
     "name": "stdout",
     "output_type": "stream",
     "text": [
      "\n",
      "样本 9:\n",
      "问题: Answer in natural language. How many DiningTables are visible in the scene? Choose between the following options: 4, 2, 2, 3 or 0\n",
      "参考答案: 2\n",
      "模型回答: The number of DiningTables visible in the scene is 2.\n",
      "是否正确: ✓\n",
      "--------------------------------------------------\n"
     ]
    },
    {
     "name": "stderr",
     "output_type": "stream",
     "text": [
      "测试进度: 100%|██████████| 10/10 [01:30<00:00,  9.02s/it]"
     ]
    },
    {
     "name": "stdout",
     "output_type": "stream",
     "text": [
      "\n",
      "样本 10:\n",
      "问题: Answer in natural language. Considering the relative positions, is white color sperical shape office chair (marked B) to the left or right of dresser aspelund (marked C)? Choose between the following options: right or left\n",
      "参考答案: right\n",
      "模型回答: left\n",
      "是否正确: ✗\n",
      "--------------------------------------------------\n",
      "\n",
      "测试完成! 准确率: 60.00% (6/10)\n"
     ]
    },
    {
     "name": "stderr",
     "output_type": "stream",
     "text": [
      "\n"
     ]
    },
    {
     "data": {
      "text/plain": [
       "'\\n# 保存结果\\noutput_file = os.path.join(results_dir, f\"sat_test_results_{num_samples}.json\")\\nwith open(output_file, \"w\", encoding=\"utf-8\") as f:\\n    json.dump({\\n        \"accuracy\": accuracy,\\n        \"correct_count\": correct_count,\\n        \"total_samples\": num_samples,\\n        \"results\": results\\n    }, f, ensure_ascii=False, indent=2)\\n\\nprint(f\"结果已保存到: {output_file}\")'"
      ]
     },
     "execution_count": 2,
     "metadata": {},
     "output_type": "execute_result"
    }
   ],
   "source": [
    "# 准备结果统计\n",
    "results = []\n",
    "correct_count = 0\n",
    "\n",
    "print(f\"\\n开始测试 {num_samples} 个SAT样本...\")\n",
    "\n",
    "for idx, sample in enumerate(tqdm(selected_samples, desc=\"测试进度\")):\n",
    "    # 准备输入\n",
    "    image_paths = sample[\"images\"]\n",
    "    if not image_paths:\n",
    "        print(f\"样本 {idx} 没有图像路径，跳过\")\n",
    "        continue\n",
    "    \n",
    "    # 加载图像\n",
    "    try:\n",
    "        image_path = os.path.join(sat_dir, image_paths[0])\n",
    "        image = Image.open(image_path).convert(\"RGB\")\n",
    "    except Exception as e:\n",
    "        print(f\"无法加载图像 {image_path}: {e}\")\n",
    "        # 尝试使用相对路径\n",
    "        try:\n",
    "            image = Image.open(image_paths[0]).convert(\"RGB\")\n",
    "        except:\n",
    "            print(f\"样本 {idx} 无法加载图像，跳过\")\n",
    "            continue\n",
    "    \n",
    "    # 重组问题，去掉前缀\n",
    "    user_message = sample[\"messages\"][0][\"content\"]\n",
    "    if \"<image>\" in user_message:\n",
    "        user_message = user_message.replace(\"<image>\", \"\").strip()\n",
    "    \n",
    "    ground_truth = sample[\"messages\"][1][\"content\"]\n",
    "    \n",
    "    # 准备消息格式\n",
    "    messages = [\n",
    "        {\n",
    "            \"role\": \"user\",\n",
    "            \"content\": [\n",
    "                {\"type\": \"image\", \"image\": image},\n",
    "                {\"type\": \"text\", \"text\": user_message},\n",
    "            ],\n",
    "        }\n",
    "    ]\n",
    "    \n",
    "    # 处理输入\n",
    "    text = processor.apply_chat_template(messages, tokenize=False, add_generation_prompt=True)\n",
    "    image_inputs, video_inputs = process_vision_info(messages)\n",
    "    inputs = processor(\n",
    "        text=[text],\n",
    "        images=image_inputs,\n",
    "        videos=video_inputs,\n",
    "        padding=True,\n",
    "        return_tensors=\"pt\",\n",
    "    )\n",
    "    inputs = inputs.to(model.device)\n",
    "    \n",
    "    # 生成回答\n",
    "    with torch.no_grad():\n",
    "        generated_ids = model.generate(**inputs, max_new_tokens=256)\n",
    "    generated_ids_trimmed = [\n",
    "        out_ids[len(in_ids):] for in_ids, out_ids in zip(inputs.input_ids, generated_ids)\n",
    "    ]\n",
    "    model_response = processor.batch_decode(\n",
    "        generated_ids_trimmed, skip_special_tokens=True, clean_up_tokenization_spaces=False\n",
    "    )[0]\n",
    "    \n",
    "    # 检查回答是否正确 (简单的包含匹配)\n",
    "    is_correct = ground_truth.lower() in model_response.lower()\n",
    "    if is_correct:\n",
    "        correct_count += 1\n",
    "    \n",
    "    # 保存结果\n",
    "    result = {\n",
    "        \"index\": idx,\n",
    "        \"question\": user_message,\n",
    "        \"ground_truth\": ground_truth,\n",
    "        \"model_response\": model_response,\n",
    "        \"is_correct\": is_correct\n",
    "    }\n",
    "    results.append(result)\n",
    "    \n",
    "    # 打印结果\n",
    "    print(f\"\\n样本 {idx+1}:\")\n",
    "    print(f\"问题: {user_message}\")\n",
    "    print(f\"参考答案: {ground_truth}\")\n",
    "    print(f\"模型回答: {model_response}\")\n",
    "    print(f\"是否正确: {'✓' if is_correct else '✗'}\")\n",
    "    print(\"-\" * 50)\n",
    "\n",
    "# 计算准确率\n",
    "accuracy = correct_count / num_samples\n",
    "print(f\"\\n测试完成! 准确率: {accuracy:.2%} ({correct_count}/{num_samples})\")\n",
    "\"\"\"\n",
    "# 保存结果\n",
    "output_file = os.path.join(results_dir, f\"sat_test_results_{num_samples}.json\")\n",
    "with open(output_file, \"w\", encoding=\"utf-8\") as f:\n",
    "    json.dump({\n",
    "        \"accuracy\": accuracy,\n",
    "        \"correct_count\": correct_count,\n",
    "        \"total_samples\": num_samples,\n",
    "        \"results\": results\n",
    "    }, f, ensure_ascii=False, indent=2)\n",
    "\n",
    "print(f\"结果已保存到: {output_file}\")\"\"\""
   ]
  },
  {
   "cell_type": "code",
   "execution_count": null,
   "metadata": {},
   "outputs": [],
   "source": []
  }
 ],
 "metadata": {
  "kernelspec": {
   "display_name": "sam",
   "language": "python",
   "name": "python3"
  },
  "language_info": {
   "codemirror_mode": {
    "name": "ipython",
    "version": 3
   },
   "file_extension": ".py",
   "mimetype": "text/x-python",
   "name": "python",
   "nbconvert_exporter": "python",
   "pygments_lexer": "ipython3",
   "version": "3.10.16"
  }
 },
 "nbformat": 4,
 "nbformat_minor": 2
}
